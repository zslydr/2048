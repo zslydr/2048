{
 "cells": [
  {
   "cell_type": "code",
   "execution_count": 1,
   "metadata": {
    "collapsed": true
   },
   "outputs": [],
   "source": [
    "import os\n",
    "import importlib\n",
    "import numpy as np\n",
    "os.chdir('/Users/Raphael/Github/2048/scripts/') #Select your working directory\n",
    "cwd = os.getcwd()\n",
    "G_2048=importlib.import_module(\"2048_class\")\n",
    "G_2048=importlib.reload(G_2048)\n",
    "NN=importlib.import_module(\"NN_class\")\n",
    "NN=importlib.reload(NN)"
   ]
  },
  {
   "cell_type": "code",
   "execution_count": 2,
   "metadata": {
    "collapsed": true
   },
   "outputs": [],
   "source": [
    "# SCORE FUNCTION BASED ON THE WEIGHTS OF THE NN\n",
    "\n",
    "def score_weight(game, model, W):\n",
    "    # Indicate if the game is stuck (because NN can loop over a useless move without the game being lost)\n",
    "    stuck = False \n",
    "    while game.state == 1 and stuck == False: # While the game is not lost and not stuck\n",
    "        stuck = True\n",
    "        previous_grid = game.grid # to test whether the game is stuck or not\n",
    "        p = model.forward(game.grid.reshape(16),W) # Forward propagation with the grid as input\n",
    "        action_ind = p.argmax() # Get the action index to perform\n",
    "        action = [game.up,game.down,game.right,game.left][action_ind] # Select the action to perform\n",
    "        game.update(action) # Perform the action\n",
    "        if (previous_grid != game.grid).any() or (game.grid == 0).any(): #Check if the game is not stuck\n",
    "            stuck = False\n",
    "    return(game.score())"
   ]
  },
  {
   "cell_type": "code",
   "execution_count": 3,
   "metadata": {},
   "outputs": [
    {
     "name": "stdout",
     "output_type": "stream",
     "text": [
      "108\n"
     ]
    },
    {
     "data": {
      "image/png": "[encoded data removed]",
      "text/plain": [
       "<matplotlib.figure.Figure at 0x1104c1fd0>"
      ]
     },
     "metadata": {},
     "output_type": "display_data"
    }
   ],
   "source": [
    "game = G_2048.Game_2048(4) # Initialize the game grid\n",
    "\n",
    "\n",
    "model = NN.NNet(16,4,1,16) # Initialize the type of the NN (or population in our case)\n",
    "\n",
    "W1 = np.random.randn(model.input_size, model.hidden_sizes)\n",
    "W2 = np.random.randn(model.hidden_sizes, model.output_size)\n",
    "\n",
    "W = [W1,W2] # Initialize ONE individual\n",
    "\n",
    "\n",
    "score = score_weight(game, model, W) # SCORE of the inidividual\n",
    "print(score)\n",
    "game.display()"
   ]
  }
 ],
 "metadata": {
  "kernelspec": {
   "display_name": "Python 3",
   "language": "python",
   "name": "python3"
  },
  "language_info": {
   "codemirror_mode": {
    "name": "ipython",
    "version": 3
   },
   "file_extension": ".py",
   "mimetype": "text/x-python",
   "name": "python",
   "nbconvert_exporter": "python",
   "pygments_lexer": "ipython3",
   "version": "3.6.1"
  }
 },
 "nbformat": 4,
 "nbformat_minor": 2
}
